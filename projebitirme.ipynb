{
 "cells": [
  {
   "cell_type": "code",
   "execution_count": 2,
   "metadata": {},
   "outputs": [
    {
     "name": "stdout",
     "output_type": "stream",
     "text": [
      "Requirement already satisfied: pandas in c:\\users\\aylin\\appdata\\local\\programs\\python\\python39\\lib\\site-packages (1.4.3)\n",
      "Requirement already satisfied: pytz>=2020.1 in c:\\users\\aylin\\appdata\\local\\programs\\python\\python39\\lib\\site-packages (from pandas) (2022.1)\n",
      "Requirement already satisfied: python-dateutil>=2.8.1 in c:\\users\\aylin\\appdata\\local\\programs\\python\\python39\\lib\\site-packages (from pandas) (2.8.2)\n",
      "Requirement already satisfied: numpy>=1.18.5; platform_machine != \"aarch64\" and platform_machine != \"arm64\" and python_version < \"3.10\" in c:\\users\\aylin\\appdata\\local\\programs\\python\\python39\\lib\\site-packages (from pandas) (1.23.1)\n",
      "Requirement already satisfied: six>=1.5 in c:\\users\\aylin\\appdata\\local\\programs\\python\\python39\\lib\\site-packages (from python-dateutil>=2.8.1->pandas) (1.16.0)\n",
      "Note: you may need to restart the kernel to use updated packages.\n"
     ]
    },
    {
     "name": "stderr",
     "output_type": "stream",
     "text": [
      "WARNING: You are using pip version 20.2.3; however, version 22.2.1 is available.\n",
      "You should consider upgrading via the 'c:\\Users\\aylin\\AppData\\Local\\Programs\\Python\\Python39\\python.exe -m pip install --upgrade pip' command.\n"
     ]
    }
   ],
   "source": [
    "pip install pandas\n"
   ]
  },
  {
   "cell_type": "code",
   "execution_count": 3,
   "metadata": {},
   "outputs": [
    {
     "name": "stdout",
     "output_type": "stream",
     "text": [
      "Requirement already satisfied: numpy in c:\\users\\aylin\\appdata\\local\\programs\\python\\python39\\lib\\site-packages (1.23.1)Note: you may need to restart the kernel to use updated packages.\n"
     ]
    },
    {
     "name": "stderr",
     "output_type": "stream",
     "text": [
      "WARNING: You are using pip version 20.2.3; however, version 22.2.1 is available.\n",
      "You should consider upgrading via the 'c:\\Users\\aylin\\AppData\\Local\\Programs\\Python\\Python39\\python.exe -m pip install --upgrade pip' command.\n"
     ]
    },
    {
     "name": "stdout",
     "output_type": "stream",
     "text": [
      "\n"
     ]
    }
   ],
   "source": [
    "pip install numpy"
   ]
  },
  {
   "cell_type": "code",
   "execution_count": 4,
   "metadata": {},
   "outputs": [
    {
     "name": "stdout",
     "output_type": "stream",
     "text": [
      "Requirement already satisfied: matplotlib in c:\\users\\aylin\\appdata\\local\\programs\\python\\python39\\lib\\site-packages (3.5.2)\n",
      "Requirement already satisfied: pyparsing>=2.2.1 in c:\\users\\aylin\\appdata\\local\\programs\\python\\python39\\lib\\site-packages (from matplotlib) (3.0.9)\n",
      "Requirement already satisfied: fonttools>=4.22.0 in c:\\users\\aylin\\appdata\\local\\programs\\python\\python39\\lib\\site-packages (from matplotlib) (4.34.4)\n",
      "Requirement already satisfied: kiwisolver>=1.0.1 in c:\\users\\aylin\\appdata\\local\\programs\\python\\python39\\lib\\site-packages (from matplotlib) (1.4.4)\n",
      "Requirement already satisfied: numpy>=1.17 in c:\\users\\aylin\\appdata\\local\\programs\\python\\python39\\lib\\site-packages (from matplotlib) (1.23.1)\n",
      "Requirement already satisfied: cycler>=0.10 in c:\\users\\aylin\\appdata\\local\\programs\\python\\python39\\lib\\site-packages (from matplotlib) (0.11.0)\n",
      "Requirement already satisfied: packaging>=20.0 in c:\\users\\aylin\\appdata\\local\\programs\\python\\python39\\lib\\site-packages (from matplotlib) (21.3)\n",
      "Requirement already satisfied: python-dateutil>=2.7 in c:\\users\\aylin\\appdata\\local\\programs\\python\\python39\\lib\\site-packages (from matplotlib) (2.8.2)\n",
      "Requirement already satisfied: pillow>=6.2.0 in c:\\users\\aylin\\appdata\\local\\programs\\python\\python39\\lib\\site-packages (from matplotlib) (9.2.0)\n",
      "Requirement already satisfied: six>=1.5 in c:\\users\\aylin\\appdata\\local\\programs\\python\\python39\\lib\\site-packages (from python-dateutil>=2.7->matplotlib) (1.16.0)\n",
      "Note: you may need to restart the kernel to use updated packages.\n"
     ]
    },
    {
     "name": "stderr",
     "output_type": "stream",
     "text": [
      "WARNING: You are using pip version 20.2.3; however, version 22.2.1 is available.\n",
      "You should consider upgrading via the 'c:\\Users\\aylin\\AppData\\Local\\Programs\\Python\\Python39\\python.exe -m pip install --upgrade pip' command.\n"
     ]
    }
   ],
   "source": [
    "pip install matplotlib\n"
   ]
  },
  {
   "cell_type": "code",
   "execution_count": 5,
   "metadata": {},
   "outputs": [],
   "source": [
    "import pandas as pd\n",
    "import matplotlib.pyplot as plt\n",
    "import numpy as np"
   ]
  },
  {
   "cell_type": "markdown",
   "metadata": {},
   "source": [
    "**Dosyaları Okuma, sütun adlarını güncelleme, satır-sütun sayılarını bulma**\n",
    "\n",
    "Bu kısımda incelediğimiz 5 dosyayı okuyup, teker teker sütunlarını tanımlayan başlıklarla yeniden isimlendirdim. Her dosyanın satır ve sütun sayısına bakıp bunları ekrana yazdırdım. Ayrıca ilerleyen adımlarda yaptığım adımlarda yardımcı olması adına her dosyanın içinde hangi sütunda kaç tane Nan değeri olduğuna baktım."
   ]
  },
  {
   "cell_type": "code",
   "execution_count": 9,
   "metadata": {},
   "outputs": [
    {
     "data": {
      "text/plain": [
       "'\\nplayers dosyasında Nan değer yok.\\n[7228 rows x 4 columns]\\n(7228, 4)\\n\\noyuncu_ismi    0\\ntakim_id       0\\noyuncu_id      0\\nsezon          0\\n\\n\\nteams dosyasında; arena kapasitesinde 4 tane nan 1 tane 0 değeri var\\n\\n\\ngames dosyasında;\\nevsah_puan                99\\nevsah_atilanatis_yuzde    99\\nevsah_serbatis_yuzde      99\\nevsah_ucluk_yuzde         99\\nevsah_asist               99\\nevsah_rebound             99\\nziyar_puan                99\\nziyar_atilanatis_yuzde    99\\nziyar_serbatis_yuzde      99\\nziyar_ucluk_yuzde         99\\nziyar_asist               99\\nziyar_rebound             99\\n\\n\\nranking dosyasında;\\ntakim_id                0\\nsezon_id                0\\nstandingsdate           0\\nkonferans               0\\ntakim                   0\\nG                       0\\nW                       0\\nL                       0\\nkazanma_yuzdesi         0\\nevsahibiyken_WL         0\\ndeplasmanda_WL          0\\nreturn_to_play     197802\\ndtype: int64\\n\\n\\ngames_details dosyasında;\\noyun_id                     0\\ntakim_id                    0\\nkisaltma                    0\\ntakim_sehir                 0\\noyuncu_id                   0\\noyuncu_adi                  0\\nlakap                  615591\\nbaslangic_poz          398738\\ncomment                540351\\noynanan_dk             105603\\nyapilan_atis           105603\\ndenenen_atis           105603\\natis_yuzde             105603\\nyapilan_ucluk          105603\\ndenenen_ucluk          105603\\nucluk_yuzde            105603\\nyapilan_serbestatis    105603\\ndenenen_serbestatis    105603\\nserbestatis_yuzde      105603\\nhucum_reb              105603\\nsavunma_reb            105603\\nrebound                105603\\nasist                  105603\\ntop_calma              105603\\nblok                   105603\\ntop_kaybi              105603\\nbireysel_foul          105603\\noyuncu_sayisi          105603\\nplus_minus             129264\\ndtype: int64\\n'"
      ]
     },
     "execution_count": 9,
     "metadata": {},
     "output_type": "execute_result"
    }
   ],
   "source": [
    "\"\"\"\n",
    "players dosyasında Nan değer yok.\n",
    "[7228 rows x 4 columns]\n",
    "(7228, 4)\n",
    "\n",
    "oyuncu_ismi    0\n",
    "takim_id       0\n",
    "oyuncu_id      0\n",
    "sezon          0\n",
    "\n",
    "\n",
    "teams dosyasında; arena kapasitesinde 4 tane nan 1 tane 0 değeri var\n",
    "\n",
    "\n",
    "games dosyasında;\n",
    "evsah_puan                99\n",
    "evsah_atilanatis_yuzde    99\n",
    "evsah_serbatis_yuzde      99\n",
    "evsah_ucluk_yuzde         99\n",
    "evsah_asist               99\n",
    "evsah_rebound             99\n",
    "ziyar_puan                99\n",
    "ziyar_atilanatis_yuzde    99\n",
    "ziyar_serbatis_yuzde      99\n",
    "ziyar_ucluk_yuzde         99\n",
    "ziyar_asist               99\n",
    "ziyar_rebound             99\n",
    "\n",
    "\n",
    "ranking dosyasında;\n",
    "takim_id                0\n",
    "sezon_id                0\n",
    "standingsdate           0\n",
    "konferans               0\n",
    "takim                   0\n",
    "G                       0\n",
    "W                       0\n",
    "L                       0\n",
    "kazanma_yuzdesi         0\n",
    "evsahibiyken_WL         0\n",
    "deplasmanda_WL          0\n",
    "return_to_play     197802\n",
    "dtype: int64\n",
    "\n",
    "\n",
    "games_details dosyasında;\n",
    "oyun_id                     0\n",
    "takim_id                    0\n",
    "kisaltma                    0\n",
    "takim_sehir                 0\n",
    "oyuncu_id                   0\n",
    "oyuncu_adi                  0\n",
    "lakap                  615591\n",
    "baslangic_poz          398738\n",
    "comment                540351\n",
    "oynanan_dk             105603\n",
    "yapilan_atis           105603\n",
    "denenen_atis           105603\n",
    "atis_yuzde             105603\n",
    "yapilan_ucluk          105603\n",
    "denenen_ucluk          105603\n",
    "ucluk_yuzde            105603\n",
    "yapilan_serbestatis    105603\n",
    "denenen_serbestatis    105603\n",
    "serbestatis_yuzde      105603\n",
    "hucum_reb              105603\n",
    "savunma_reb            105603\n",
    "rebound                105603\n",
    "asist                  105603\n",
    "top_calma              105603\n",
    "blok                   105603\n",
    "top_kaybi              105603\n",
    "bireysel_foul          105603\n",
    "oyuncu_sayisi          105603\n",
    "plus_minus             129264\n",
    "dtype: int64\n",
    "\"\"\""
   ]
  },
  {
   "cell_type": "code",
   "execution_count": 6,
   "metadata": {},
   "outputs": [
    {
     "name": "stdout",
     "output_type": "stream",
     "text": [
      "           oyuncu_ismi    takim_id  oyuncu_id  sezon\n",
      "0        Royce O'Neale  1610612762    1626220   2019\n",
      "1     Bojan Bogdanovic  1610612762     202711   2019\n",
      "2          Rudy Gobert  1610612762     203497   2019\n",
      "3     Donovan Mitchell  1610612762    1628378   2019\n",
      "4          Mike Conley  1610612762     201144   2019\n",
      "...                ...         ...        ...    ...\n",
      "7223       Lanny Smith  1610612758     201831   2009\n",
      "7224     Warren Carter  1610612752     201999   2009\n",
      "7225      Bennet Davis  1610612751     201834   2009\n",
      "7226    Brian Hamilton  1610612751     201646   2009\n",
      "7227   Wesley Matthews  1610612762     500032   2009\n",
      "\n",
      "[7228 rows x 4 columns]\n",
      "Players, yeni adıyla oyuncular 7228 satır ve 4 sütundan oluşmaktadır\n",
      "oyuncu_ismi    0\n",
      "takim_id       0\n",
      "oyuncu_id      0\n",
      "sezon          0\n",
      "dtype: int64\n",
      "      takim_id  min_sene  max_sene kisaltma          lakap  kurulus_senesi  \\\n",
      "0   1610612737      1949      2019      ATL          Hawks            1949   \n",
      "1   1610612738      1946      2019      BOS        Celtics            1946   \n",
      "2   1610612740      2002      2019      NOP       Pelicans            2002   \n",
      "3   1610612741      1966      2019      CHI          Bulls            1966   \n",
      "4   1610612742      1980      2019      DAL      Mavericks            1980   \n",
      "5   1610612743      1976      2019      DEN        Nuggets            1976   \n",
      "6   1610612745      1967      2019      HOU        Rockets            1967   \n",
      "7   1610612746      1970      2019      LAC       Clippers            1970   \n",
      "8   1610612747      1948      2019      LAL         Lakers            1948   \n",
      "9   1610612748      1988      2019      MIA           Heat            1988   \n",
      "10  1610612749      1968      2019      MIL          Bucks            1968   \n",
      "11  1610612750      1989      2019      MIN   Timberwolves            1989   \n",
      "12  1610612751      1976      2019      BKN           Nets            1976   \n",
      "13  1610612752      1946      2019      NYK         Knicks            1946   \n",
      "14  1610612753      1989      2019      ORL          Magic            1989   \n",
      "15  1610612754      1976      2019      IND         Pacers            1976   \n",
      "16  1610612755      1949      2019      PHI          76ers            1949   \n",
      "17  1610612756      1968      2019      PHX           Suns            1968   \n",
      "18  1610612757      1970      2019      POR  Trail Blazers            1970   \n",
      "19  1610612758      1948      2019      SAC          Kings            1948   \n",
      "20  1610612759      1976      2019      SAS          Spurs            1976   \n",
      "21  1610612760      1967      2019      OKC        Thunder            1967   \n",
      "22  1610612761      1995      2019      TOR        Raptors            1995   \n",
      "23  1610612762      1974      2019      UTA           Jazz            1974   \n",
      "24  1610612763      1995      2019      MEM      Grizzlies            1995   \n",
      "25  1610612764      1961      2019      WAS        Wizards            1961   \n",
      "26  1610612765      1948      2019      DET        Pistons            1948   \n",
      "27  1610612766      1988      2019      CHA        Hornets            1988   \n",
      "28  1610612739      1970      2019      CLE      Cavaliers            1970   \n",
      "29  1610612744      1946      2019      GSW       Warriors            1946   \n",
      "\n",
      "            sehir                       arena  arena_kapasite  \\\n",
      "0         Atlanta            State Farm Arena         18729.0   \n",
      "1          Boston                   TD Garden         18624.0   \n",
      "2     New Orleans        Smoothie King Center             NaN   \n",
      "3         Chicago               United Center         21711.0   \n",
      "4          Dallas    American Airlines Center         19200.0   \n",
      "5          Denver                Pepsi Center         19099.0   \n",
      "6         Houston               Toyota Center         18104.0   \n",
      "7     Los Angeles              Staples Center         19060.0   \n",
      "8     Los Angeles              Staples Center         19060.0   \n",
      "9           Miami      AmericanAirlines Arena         19600.0   \n",
      "10      Milwaukee                Fiserv Forum         17500.0   \n",
      "11      Minnesota               Target Center         19356.0   \n",
      "12       Brooklyn             Barclays Center             NaN   \n",
      "13       New York       Madison Square Garden         19763.0   \n",
      "14        Orlando                Amway Center             0.0   \n",
      "15        Indiana     Bankers Life Fieldhouse         18345.0   \n",
      "16   Philadelphia          Wells Fargo Center             NaN   \n",
      "17        Phoenix  Talking Stick Resort Arena             NaN   \n",
      "18       Portland                 Moda Center         19980.0   \n",
      "19     Sacramento             Golden 1 Center         17500.0   \n",
      "20    San Antonio                 AT&T Center         18694.0   \n",
      "21  Oklahoma City     Chesapeake Energy Arena         19163.0   \n",
      "22        Toronto            Scotiabank Arena         19800.0   \n",
      "23           Utah     Vivint Smart Home Arena         20148.0   \n",
      "24        Memphis                  FedExForum         18119.0   \n",
      "25     Washington           Capital One Arena         20647.0   \n",
      "26        Detroit        Little Caesars Arena         21000.0   \n",
      "27      Charlotte             Spectrum Center         19026.0   \n",
      "28      Cleveland         Quicken Loans Arena         20562.0   \n",
      "29   Golden State                Chase Center         19596.0   \n",
      "\n",
      "                                  sahip          menejer               koc  \\\n",
      "0                          Tony Ressler   Travis Schlenk      Lloyd Pierce   \n",
      "1                         Wyc Grousbeck      Danny Ainge      Brad Stevens   \n",
      "2                            Tom Benson   Trajan Langdon      Alvin Gentry   \n",
      "3                       Jerry Reinsdorf       Gar Forman        Jim Boylen   \n",
      "4                            Mark Cuban    Donnie Nelson     Rick Carlisle   \n",
      "5                          Stan Kroenke     Tim Connelly    Michael Malone   \n",
      "6                       Tilman Fertitta      Daryl Morey     Mike D'Antoni   \n",
      "7                         Steve Ballmer   Michael Winger        Doc Rivers   \n",
      "8               Jerry Buss Family Trust      Rob Pelinka       Frank Vogel   \n",
      "9                          Micky Arison        Pat Riley    Erik Spoelstra   \n",
      "10            Wesley Edens & Marc Lasry        Jon Horst  Mike Budenholzer   \n",
      "11                          Glen Taylor     Scott Layden     Ryan Saunders   \n",
      "12                             Joe Tsai       Sean Marks    Kenny Atkinson   \n",
      "13            Cablevision (James Dolan)      Steve Mills     David Fizdale   \n",
      "14                           Rick DeVos     John Hammond    Steve Clifford   \n",
      "15                           Herb Simon  Kevin Pritchard     Nate McMillan   \n",
      "16                        Joshua Harris      Elton Brand       Brett Brown   \n",
      "17                        Robert Sarver      James Jones    Monty Williams   \n",
      "18                           Paul Allen      Neil Olshey      Terry Stotts   \n",
      "19                       Vivek Ranadive      Vlade Divac       Luke Walton   \n",
      "20                           Peter Holt     Brian Wright    Gregg Popovich   \n",
      "21                         Clay Bennett       Sam Presti     Billy Donovan   \n",
      "22  Maple Leaf Sports and Entertainment      Masai Ujiri        Nick Nurse   \n",
      "23                          Greg Miller   Dennis Lindsey       Quin Snyder   \n",
      "24                          Robert Pera     Zach Kleiman    Taylor Jenkins   \n",
      "25                          Ted Leonsis   Tommy Sheppard      Scott Brooks   \n",
      "26                            Tom Gores     Ed Stefanski       Dwane Casey   \n",
      "27                       Michael Jordan    Mitch Kupchak     James Borrego   \n",
      "28                          Dan Gilbert      Koby Altman      John Beilein   \n",
      "29                            Joe Lacob        Bob Myers        Steve Kerr   \n",
      "\n",
      "                               d_ligi  \n",
      "0                       Erie Bayhawks  \n",
      "1                     Maine Red Claws  \n",
      "2                        No Affiliate  \n",
      "3                    Windy City Bulls  \n",
      "4                       Texas Legends  \n",
      "5                        No Affiliate  \n",
      "6            Rio Grande Valley Vipers  \n",
      "7   Agua Caliente Clippers of Ontario  \n",
      "8                    South Bay Lakers  \n",
      "9                Sioux Falls Skyforce  \n",
      "10                     Wisconsin Herd  \n",
      "11                        Iowa Wolves  \n",
      "12                   Long Island Nets  \n",
      "13                 Westchester Knicks  \n",
      "14                     Lakeland Magic  \n",
      "15                Fort Wayne Mad Ants  \n",
      "16                Delaware Blue Coats  \n",
      "17              Northern Arizona Suns  \n",
      "18                       No Affiliate  \n",
      "19                     Stockton Kings  \n",
      "20                       Austin Spurs  \n",
      "21                 Oklahoma City Blue  \n",
      "22                        Raptors 905  \n",
      "23               Salt Lake City Stars  \n",
      "24                     Memphis Hustle  \n",
      "25                 Capital City Go-Go  \n",
      "26                 Grand Rapids Drive  \n",
      "27                   Greensboro Swarm  \n",
      "28                      Canton Charge  \n",
      "29                Santa Cruz Warriors  \n",
      "Teams, yeni adıyla takımlar 30 satır ve 13 sütundan oluşmaktadır\n",
      "takim_id          0\n",
      "min_sene          0\n",
      "max_sene          0\n",
      "kisaltma          0\n",
      "lakap             0\n",
      "kurulus_senesi    0\n",
      "sehir             0\n",
      "arena             0\n",
      "arena_kapasite    4\n",
      "sahip             0\n",
      "menejer           0\n",
      "koc               0\n",
      "d_ligi            0\n",
      "dtype: int64\n",
      "0.0\n",
      "18553.30769230769\n",
      "      oyun_tarihi   oyun_id  statu    evsah_id    ziyar_id sezon evsah_puan  \\\n",
      "0      2022-03-12  22101005  Final  1610612748  1610612750  2021      104.0   \n",
      "1      2022-03-12  22101006  Final  1610612741  1610612739  2021      101.0   \n",
      "2      2022-03-12  22101007  Final  1610612759  1610612754  2021      108.0   \n",
      "3      2022-03-12  22101008  Final  1610612744  1610612749  2021      122.0   \n",
      "4      2022-03-12  22101009  Final  1610612743  1610612761  2021      115.0   \n",
      "...           ...       ...    ...         ...         ...   ...        ...   \n",
      "25791  2014-10-06  11400007  Final  1610612737  1610612740  2014       93.0   \n",
      "25792  2014-10-06  11400004  Final  1610612741  1610612764  2014       81.0   \n",
      "25793  2014-10-06  11400005  Final  1610612747  1610612743  2014       98.0   \n",
      "25794  2014-10-05  11400002  Final  1610612761  1610612758  2014       99.0   \n",
      "25795  2014-10-04  11400001  Final  1610612748  1610612740  2014       86.0   \n",
      "\n",
      "      evsah_atilanatis_yuzde evsah_serbatis_yuzde evsah_ucluk_yuzde  \\\n",
      "0                      0.398                 0.76             0.333   \n",
      "1                      0.443                0.933             0.429   \n",
      "2                      0.412                0.813             0.324   \n",
      "3                      0.484                0.933               0.4   \n",
      "4                      0.551                 0.75             0.407   \n",
      "...                      ...                  ...               ...   \n",
      "25791                  0.419                0.821             0.421   \n",
      "25792                  0.338                0.719             0.381   \n",
      "25793                  0.448                0.682               0.5   \n",
      "25794                   0.44                0.771             0.333   \n",
      "25795                  0.431                0.679             0.333   \n",
      "\n",
      "      evsah_asist evsah_rebound ziyar_puan ziyar_atilanatis_yuzde  \\\n",
      "0            23.0          53.0      113.0                  0.422   \n",
      "1            20.0          46.0       91.0                  0.419   \n",
      "2            28.0          52.0      119.0                  0.489   \n",
      "3            33.0          55.0      109.0                  0.413   \n",
      "4            32.0          39.0      127.0                  0.471   \n",
      "...           ...           ...        ...                    ...   \n",
      "25791        24.0          50.0       87.0                  0.366   \n",
      "25792        18.0          40.0       85.0                  0.411   \n",
      "25793        29.0          45.0       95.0                  0.387   \n",
      "25794        21.0          30.0       94.0                  0.469   \n",
      "25795        18.0          42.0       98.0                  0.462   \n",
      "\n",
      "      ziyar_serbatis_yuzde ziyar_ucluk_yuzde ziyar_asist ziyar_rebound kazanan  \n",
      "0                    0.875             0.357        21.0          46.0       0  \n",
      "1                    0.824             0.208        19.0          40.0       1  \n",
      "2                      1.0             0.389        23.0          47.0       0  \n",
      "3                    0.696             0.386        27.0          39.0       1  \n",
      "4                     0.76             0.387        28.0          50.0       0  \n",
      "...                    ...               ...         ...           ...     ...  \n",
      "25791                0.643             0.375        17.0          43.0       1  \n",
      "25792                0.636             0.267        17.0          47.0       0  \n",
      "25793                0.659               0.5        19.0          43.0       1  \n",
      "25794                0.725             0.385        18.0          45.0       1  \n",
      "25795                0.706             0.438        19.0          42.0       0  \n",
      "\n",
      "[25796 rows x 19 columns]\n",
      "Games, yeni adıyla oyunlar 25796 satır ve 19 sütundan oluşmaktadır\n",
      "oyun_tarihi                0\n",
      "oyun_id                    0\n",
      "statu                      0\n",
      "evsah_id                   0\n",
      "ziyar_id                   0\n",
      "sezon                      0\n",
      "evsah_puan                99\n",
      "evsah_atilanatis_yuzde    99\n",
      "evsah_serbatis_yuzde      99\n",
      "evsah_ucluk_yuzde         99\n",
      "evsah_asist               99\n",
      "evsah_rebound             99\n",
      "ziyar_puan                99\n",
      "ziyar_atilanatis_yuzde    99\n",
      "ziyar_serbatis_yuzde      99\n",
      "ziyar_ucluk_yuzde         99\n",
      "ziyar_asist               99\n",
      "ziyar_rebound             99\n",
      "kazanan                    0\n",
      "dtype: int64\n",
      "          takim_id sezon_id standingsdate konferans         takim   G   W   L  \\\n",
      "0       1610612756    22021    2022-03-12      West       Phoenix  67  53  14   \n",
      "1       1610612744    22021    2022-03-12      West  Golden State  68  46  22   \n",
      "2       1610612763    22021    2022-03-12      West       Memphis  68  46  22   \n",
      "3       1610612762    22021    2022-03-12      West          Utah  67  42  25   \n",
      "4       1610612742    22021    2022-03-12      West        Dallas  67  41  26   \n",
      "...            ...      ...           ...       ...           ...  ..  ..  ..   \n",
      "201787  1610612765    22013    2014-09-01      East       Detroit  82  29  53   \n",
      "201788  1610612738    22013    2014-09-01      East        Boston  82  25  57   \n",
      "201789  1610612753    22013    2014-09-01      East       Orlando  82  23  59   \n",
      "201790  1610612755    22013    2014-09-01      East  Philadelphia  82  19  63   \n",
      "201791  1610612749    22013    2014-09-01      East     Milwaukee  82  15  67   \n",
      "\n",
      "       kazanma_yuzdesi evsahibiyken_WL deplasmanda_WL return_to_play  \n",
      "0                0.791            28-8           25-6            NaN  \n",
      "1                0.676            28-7          18-15            NaN  \n",
      "2                0.676           24-10          22-12            NaN  \n",
      "3                0.627           24-10          18-15            NaN  \n",
      "4                0.612           23-12          18-14            NaN  \n",
      "...                ...             ...            ...            ...  \n",
      "201787           0.354           17-24          12-29            NaN  \n",
      "201788           0.305           16-25           9-32            NaN  \n",
      "201789            0.28           19-22           4-37            NaN  \n",
      "201790           0.232           10-31           9-32            NaN  \n",
      "201791           0.183           10-31           5-36            NaN  \n",
      "\n",
      "[201792 rows x 12 columns]\n",
      "Ranking, yeni adıyla siralama 201792 satır ve 12 sütundan oluşmaktadır\n",
      "takim_id                0\n",
      "sezon_id                0\n",
      "standingsdate           0\n",
      "konferans               0\n",
      "takim                   0\n",
      "G                       0\n",
      "W                       0\n",
      "L                       0\n",
      "kazanma_yuzdesi         0\n",
      "evsahibiyken_WL         0\n",
      "deplasmanda_WL          0\n",
      "return_to_play     197802\n",
      "dtype: int64\n"
     ]
    },
    {
     "name": "stderr",
     "output_type": "stream",
     "text": [
      "C:\\Users\\aylin\\AppData\\Local\\Temp\\ipykernel_6748\\612859379.py:44: DtypeWarning: Columns (6) have mixed types. Specify dtype option on import or set low_memory=False.\n",
      "  df_oyun_detaylari = pd.read_csv(\"games_details.csv\")\n"
     ]
    },
    {
     "name": "stdout",
     "output_type": "stream",
     "text": [
      "Games Details, yeni adıyla oyun detaylari 645953 satır ve 29 sütundan oluşmaktadır\n",
      "oyun_id                     0\n",
      "takim_id                    0\n",
      "kisaltma                    0\n",
      "takim_sehir                 0\n",
      "oyuncu_id                   0\n",
      "oyuncu_adi                  0\n",
      "lakap                  615591\n",
      "baslangic_poz          398738\n",
      "comment                540351\n",
      "oynanan_dk             105603\n",
      "yapilan_atis           105603\n",
      "denenen_atis           105603\n",
      "atis_yuzde             105603\n",
      "yapilan_ucluk          105603\n",
      "denenen_ucluk          105603\n",
      "ucluk_yuzde            105603\n",
      "yapilan_serbestatis    105603\n",
      "denenen_serbestatis    105603\n",
      "serbestatis_yuzde      105603\n",
      "hucum_reb              105603\n",
      "savunma_reb            105603\n",
      "rebound                105603\n",
      "asist                  105603\n",
      "top_calma              105603\n",
      "blok                   105603\n",
      "top_kaybi              105603\n",
      "bireysel_foul          105603\n",
      "oyuncu_sayisi          105603\n",
      "plus_minus             129264\n",
      "dtype: int64\n"
     ]
    }
   ],
   "source": [
    "df_oyuncular = pd.read_csv(\"players.csv\" )\n",
    "df_oyuncular.columns = [\"oyuncu_ismi\" , \"takim_id\" , \"oyuncu_id\" , \"sezon\"]\n",
    "print(df_oyuncular)\n",
    "print(f'Players, yeni adıyla oyuncular {df_oyuncular.shape[0]} satır ve {df_oyuncular.shape[1]} sütundan oluşmaktadır')\n",
    "print(df_oyuncular.isnull().sum())\n",
    "\n",
    "\n",
    "df_takimlar = pd.read_csv(\"teams.csv\")\n",
    "#burada lig id, zaten sadece nba olduğu için hepsi aynı ve 0\n",
    "df_takimlar.columns = [\"lig_id\" , \"takim_id\" , \"min_sene\" , \"max_sene\" , \"kisaltma\" , \"lakap\" , \"kurulus_senesi\" , \"sehir\" ,\n",
    " \"arena\" , \"arena_kapasite\" , \"sahip\" , \"menejer\" , \"koc\" , \"d_ligi\"]\n",
    "#df_takimlar = df_takimlar.T.drop_duplicates().T\n",
    "df_takimlar.drop(\"lig_id\" , axis = 1 , inplace = True)\n",
    "print(df_takimlar)\n",
    "print(f'Teams, yeni adıyla takımlar {df_takimlar.shape[0]} satır ve {df_takimlar.shape[1]} sütundan oluşmaktadır')\n",
    "print(df_takimlar.isnull().sum())\n",
    "print(df_takimlar[\"arena_kapasite\"].min())\n",
    "print(df_takimlar[\"arena_kapasite\"].mean())\n",
    "\n",
    "\n",
    "df_oyunlar = pd.read_csv(\"games.csv\")\n",
    "\n",
    "df_oyunlar.columns = [\"oyun_tarihi\" , \"oyun_id\" , \"statu\" , \"evsah_id\" , \"ziyar_id\" , \"sezon\" , \"evsah_id\" ,\n",
    " \"evsah_puan\" , \"evsah_atilanatis_yuzde\" , \"evsah_serbatis_yuzde\" , \"evsah_ucluk_yuzde\" , \"evsah_asist\" , \"evsah_rebound\" ,\n",
    " \"ziyar_id\" , \"ziyar_puan\" ,  \"ziyar_atilanatis_yuzde\" , \"ziyar_serbatis_yuzde\" , \"ziyar_ucluk_yuzde\" , \"ziyar_asist\" ,\n",
    "  \"ziyar_rebound\" , \"kazanan\"]\n",
    "#buradaki oyunların hepsi final oyunudur o nedenle statü hepsinde finaldir\n",
    "df_oyunlar = df_oyunlar.T.drop_duplicates().T\n",
    "print(df_oyunlar)\n",
    "print(f'Games, yeni adıyla oyunlar {df_oyunlar.shape[0]} satır ve {df_oyunlar.shape[1]} sütundan oluşmaktadır')\n",
    "print(df_oyunlar.isnull().sum())\n",
    "\n",
    "\n",
    "df_siralama = pd.read_csv(\"ranking.csv\")\n",
    "df_siralama.columns = [\"takim_id\" , \"lig_id\" , \"sezon_id\" , \"standingsdate\" , \"konferans\" , \"takim\" , \"G\" , \"W\" , \"L\" ,\n",
    "\"kazanma_yuzdesi\" , \"evsahibiyken_WL\" , \"deplasmanda_WL\" , \"return_to_play\"]\n",
    "df_siralama = df_siralama.T.drop_duplicates().T\n",
    "df_siralama.drop(\"lig_id\" , axis = 1 , inplace = True)\n",
    "print(df_siralama)\n",
    "print(f'Ranking, yeni adıyla siralama {df_siralama.shape[0]} satır ve {df_siralama.shape[1]} sütundan oluşmaktadır')\n",
    "print(df_siralama.isnull().sum())\n",
    "\n",
    "\n",
    "df_oyun_detaylari = pd.read_csv(\"games_details.csv\")\n",
    "df_oyun_detaylari.columns = [\"oyun_id\" , \"takim_id\" , \"kisaltma\" , \"takim_sehir\" , \"oyuncu_id\" , \"oyuncu_adi\" , \"lakap\" , \n",
    "\"baslangic_poz\" , \"comment\" , \"oynanan_dk\" , \"yapilan_atis\" , \"denenen_atis\" , \"atis_yuzde\" , \"yapilan_ucluk\" , \"denenen_ucluk\" , \n",
    "\"ucluk_yuzde\" , \"yapilan_serbestatis\" , \"denenen_serbestatis\" , \"serbestatis_yuzde\" , \"hucum_reb\" , \"savunma_reb\" , \"rebound\" , \n",
    "\"asist\" , \"top_calma\" , \"blok\" , \"top_kaybi\" , \"bireysel_foul\" , \"oyuncu_sayisi\" , \"plus_minus\"]\n",
    "df_oyun_detaylari\n",
    "print(f'Games Details, yeni adıyla oyun detaylari {df_oyun_detaylari.shape[0]} satır ve {df_oyun_detaylari.shape[1]} sütundan oluşmaktadır')\n",
    "print(df_oyun_detaylari.isnull().sum())\n",
    "\n"
   ]
  },
  {
   "cell_type": "markdown",
   "metadata": {},
   "source": [
    "Bu kısımda, maç kazanan takımların kendi evlerinde ve deplasmanda olmalarına göre yaptıkları asist , rebound ve aldıkları puanlar karşılaştırılmıştır.\n"
   ]
  },
  {
   "cell_type": "code",
   "execution_count": 7,
   "metadata": {},
   "outputs": [],
   "source": [
    "def ortalama(grup , sutun) :\n",
    "    return grup[sutun].mean()\n",
    "\n",
    "\n",
    "kazanan_kaybeden = df_oyunlar.groupby(\"kazanan\")\n",
    "kazanan = kazanan_kaybeden.get_group(1)\n",
    "kaybeden = kazanan_kaybeden.get_group(0)\n"
   ]
  },
  {
   "cell_type": "code",
   "execution_count": 8,
   "metadata": {},
   "outputs": [
    {
     "data": {
      "text/plain": [
       "<matplotlib.legend.Legend at 0x1db22a20a00>"
      ]
     },
     "execution_count": 8,
     "metadata": {},
     "output_type": "execute_result"
    },
    {
     "data": {
      "image/png": "[encoded data removed]",
      "text/plain": [
       "<Figure size 432x288 with 1 Axes>"
      ]
     },
     "metadata": {
      "needs_background": "light"
     },
     "output_type": "display_data"
    }
   ],
   "source": [
    "x = [ortalama(kazanan,\"evsah_puan\"),ortalama(kazanan,\"evsah_asist\"),\n",
    "     ortalama(kazanan,\"evsah_rebound\")]\n",
    "y = [ortalama(kazanan,\"ziyar_puan\"),ortalama(kazanan,\"ziyar_asist\"),\n",
    "     ortalama(kazanan,\"ziyar_rebound\")]\n",
    "\n",
    "ti = [\"Alınan Puan\" , \"Asist\" , \"Rebound\"]\n",
    "hor = np.arange(len(ti))\n",
    "\n",
    "plt.bar(ti,x,width = 0.25,color = \"g\",label = 'Kendi Evinde Kazanan')\n",
    "plt.bar(hor + 0.25,y,width = 0.25,color = \"b\",label = 'Deplasmanda Kazanan')\n",
    "plt.legend()\n"
   ]
  },
  {
   "cell_type": "markdown",
   "metadata": {},
   "source": [
    "Grafikten görebileceğimiz gibi, takımlar kendi evlerinde oynadığında aldıkları puanda asistlerinde ve reboundlarında pozitif bir etki oluyor."
   ]
  },
  {
   "cell_type": "markdown",
   "metadata": {},
   "source": [
    "**Maçların Nerelerde Oynandığı**"
   ]
  },
  {
   "cell_type": "code",
   "execution_count": 49,
   "metadata": {},
   "outputs": [
    {
     "name": "stdout",
     "output_type": "stream",
     "text": [
      "     oyun_id evsahibi_id ziyaretci_id evsahibi_takim ziyaretci_takim  \\\n",
      "0   22101002  1610612759   1610612762    San Antonio            Utah   \n",
      "1   22100973  1610612759   1610612747    San Antonio     L.A. Lakers   \n",
      "2   22100944  1610612759   1610612758    San Antonio      Sacramento   \n",
      "3   22100935  1610612745   1610612762        Houston            Utah   \n",
      "4   22100985  1610612745   1610612747        Houston     L.A. Lakers   \n",
      "5   22100929  1610612745   1610612746        Houston     LA Clippers   \n",
      "6   22100999  1610612745   1610612742        Houston          Dallas   \n",
      "7   22100964  1610612745   1610612763        Houston         Memphis   \n",
      "8   22100950  1610612740   1610612762    New Orleans            Utah   \n",
      "9   22100937  1610612740   1610612758    New Orleans      Sacramento   \n",
      "10  22100913  1610612756   1610612762        Phoenix            Utah   \n",
      "11  22100939  1610612756   1610612757        Phoenix        Portland   \n",
      "12  22100972  1610612742   1610612762         Dallas            Utah   \n",
      "13  22100954  1610612742   1610612758         Dallas      Sacramento   \n",
      "14  22100943  1610612742   1610612744         Dallas    Golden State   \n",
      "15  22100965  1610612760   1610612762  Oklahoma City            Utah   \n",
      "16  22100925  1610612760   1610612758  Oklahoma City      Sacramento   \n",
      "17  22100951  1610612760   1610612750  Oklahoma City       Minnesota   \n",
      "18  22100945  1610612746   1610612747    LA Clippers     L.A. Lakers   \n",
      "19  22101010  1610612762   1610612758           Utah      Sacramento   \n",
      "20  22100990  1610612762   1610612757           Utah        Portland   \n",
      "21  22100980  1610612744   1610612746   Golden State     LA Clippers   \n",
      "22  22100994  1610612743   1610612744         Denver    Golden State   \n",
      "23  22100528  1610612743   1610612744         Denver    Golden State   \n",
      "24  22100967  1610612743   1610612740         Denver     New Orleans   \n",
      "25  22100952  1610612743   1610612745         Denver         Houston   \n",
      "26  22100938  1610612743   1610612760         Denver   Oklahoma City   \n",
      "27  22100959  1610612747   1610612744    L.A. Lakers    Golden State   \n",
      "28  22100931  1610612747   1610612742    L.A. Lakers          Dallas   \n",
      "29  22100930  1610612750   1610612744      Minnesota    Golden State   \n",
      "30  22100986  1610612750   1610612760      Minnesota   Oklahoma City   \n",
      "31  22100971  1610612750   1610612757      Minnesota        Portland   \n",
      "32  22100958  1610612750   1610612757      Minnesota        Portland   \n",
      "33  22100978  1610612763   1610612740        Memphis     New Orleans   \n",
      "34  22100923  1610612763   1610612759        Memphis     San Antonio   \n",
      "35  22100991  1610612758   1610612743     Sacramento          Denver   \n",
      "\n",
      "                         arena  \n",
      "0                  AT&T Center  \n",
      "1                  AT&T Center  \n",
      "2                  AT&T Center  \n",
      "3                Toyota Center  \n",
      "4                Toyota Center  \n",
      "5                Toyota Center  \n",
      "6                Toyota Center  \n",
      "7                Toyota Center  \n",
      "8         Smoothie King Center  \n",
      "9         Smoothie King Center  \n",
      "10  Talking Stick Resort Arena  \n",
      "11  Talking Stick Resort Arena  \n",
      "12    American Airlines Center  \n",
      "13    American Airlines Center  \n",
      "14    American Airlines Center  \n",
      "15     Chesapeake Energy Arena  \n",
      "16     Chesapeake Energy Arena  \n",
      "17     Chesapeake Energy Arena  \n",
      "18              Staples Center  \n",
      "19     Vivint Smart Home Arena  \n",
      "20     Vivint Smart Home Arena  \n",
      "21                Chase Center  \n",
      "22                Pepsi Center  \n",
      "23                Pepsi Center  \n",
      "24                Pepsi Center  \n",
      "25                Pepsi Center  \n",
      "26                Pepsi Center  \n",
      "27              Staples Center  \n",
      "28              Staples Center  \n",
      "29               Target Center  \n",
      "30               Target Center  \n",
      "31               Target Center  \n",
      "32               Target Center  \n",
      "33                  FedExForum  \n",
      "34                  FedExForum  \n",
      "35             Golden 1 Center  \n"
     ]
    },
    {
     "data": {
      "text/plain": [
       "<AxesSubplot:ylabel='arena'>"
      ]
     },
     "execution_count": 49,
     "metadata": {},
     "output_type": "execute_result"
    },
    {
     "data": {
      "image/png": "[encoded data removed]",
      "text/plain": [
       "<Figure size 720x720 with 1 Axes>"
      ]
     },
     "metadata": {},
     "output_type": "display_data"
    }
   ],
   "source": [
    "df1 = pd.DataFrame({\"oyun_id\" : df_oyunlar[\"oyun_id\"].head(100) , \n",
    "\"evsahibi_id\" : df_oyunlar[\"evsah_id\"].head(100) , \n",
    "\"ziyaretci_id\" : df_oyunlar[\"ziyar_id\"].head(100)})\n",
    "\n",
    "df2 = pd.DataFrame({\"evsahibi_id\" : df_siralama[\"takim_id\"].head(100) ,\n",
    "\"evsahibi_takim\" : df_siralama[\"takim\"].head(100)} )\n",
    "\n",
    "df3 = pd.DataFrame({\"ziyaretci_id\" : df_siralama[\"takim_id\"].head(100) , \n",
    "\"ziyaretci_takim\" : df_siralama[\"takim\"].head(100)})\n",
    "\n",
    "df4 = df1.merge(df2 , on = \"evsahibi_id\")\n",
    "df5 = df4.merge(df3 , on = \"ziyaretci_id\")\n",
    "df5 = df5.drop_duplicates(subset = [\"oyun_id\" , \"evsahibi_id\" , \"ziyaretci_id\" , \"evsahibi_takim\" , \"ziyaretci_takim\" ])\n",
    "\n",
    "df6 = pd.DataFrame({\"evsahibi_id\" : df_takimlar[\"takim_id\"].head(100) , \n",
    "\"arena\" : df_takimlar[\"arena\"].head(100)})\n",
    "df7 = df5.merge(df6 , on = \"evsahibi_id\")\n",
    "print(df7) \n",
    "df7.arena.value_counts().plot.pie(autopct='%1.0f%%', figsize=(10, 10), textprops={'color':\"w\"})"
   ]
  },
  {
   "cell_type": "markdown",
   "metadata": {},
   "source": [
    "**Arena Kapasitesinin Ev sahibi takımın galibiyetine etkisi**\n",
    "\n",
    "burada arena kapasitesi sütununda 4 tane nan değer vardı. bunlar yerine arena kapasitesinin ortalama değerlerini ekledim"
   ]
  },
  {
   "cell_type": "code",
   "execution_count": 10,
   "metadata": {},
   "outputs": [
    {
     "name": "stdout",
     "output_type": "stream",
     "text": [
      "    evsahibi_id  kapasite kazanan\n",
      "16   1610612753         0     443\n",
      "21   1610612758     17500     405\n",
      "12   1610612749     17500     490\n",
      "8    1610612745     18104     562\n",
      "26   1610612763     18119     503\n",
      "17   1610612754     18345     542\n",
      "14   1610612751     18553     429\n",
      "3    1610612740     18553     444\n",
      "19   1610612756     18553     491\n",
      "18   1610612755     18553     451\n",
      "1    1610612738     18624     581\n",
      "22   1610612759     18694     677\n",
      "0    1610612737     18729     484\n",
      "29   1610612766     19026     382\n",
      "10   1610612747     19060     564\n",
      "9    1610612746     19060     521\n",
      "6    1610612743     19099     574\n",
      "23   1610612760     19163     524\n",
      "5    1610612742     19200     570\n",
      "13   1610612750     19356     385\n",
      "7    1610612744     19596     578\n",
      "11   1610612748     19600     609\n",
      "15   1610612752     19763     381\n",
      "24   1610612761     19800     509\n",
      "20   1610612757     19980     517\n",
      "25   1610612762     20148     556\n",
      "2    1610612739     20562     532\n",
      "27   1610612764     20647     439\n",
      "28   1610612765     21000     506\n",
      "4    1610612741     21711     506\n"
     ]
    },
    {
     "data": {
      "image/png": "[encoded data removed]",
      "text/plain": [
       "<Figure size 432x288 with 1 Axes>"
      ]
     },
     "metadata": {
      "needs_background": "light"
     },
     "output_type": "display_data"
    }
   ],
   "source": [
    "a = df_takimlar[\"arena_kapasite\"].mean()\n",
    "df_takimlar.fillna(a , inplace = True)\n",
    "\n",
    "df_arena_kap = pd.DataFrame({\"evsahibi_id\" : df_takimlar[\"takim_id\"] ,\n",
    " \"kapasite\" : df_takimlar[\"arena_kapasite\"]})\n",
    "\n",
    "df_kazanan = pd.DataFrame({\"evsahibi_id\" : df_oyunlar[\"evsah_id\"] , \n",
    "\"kazanan\" : df_oyunlar[\"kazanan\"] })\n",
    "df1 = df_kazanan.merge(df_arena_kap , on = \"evsahibi_id\")\n",
    "df1.drop_duplicates(subset = [\"evsahibi_id\" , \"kazanan\" , \"kapasite\"])\n",
    "df2 = df1[df1[\"kazanan\"]==1]\n",
    "df3 = df2.groupby([\"evsahibi_id\",\"kapasite\"])[\"kazanan\"].sum().reset_index()\n",
    "df3['kapasite'] = df3['kapasite'].astype(int)\n",
    "df3=df3.sort_values('kapasite')\n",
    "print(df3)\n",
    "df3.plot.barh(x=\"kapasite\",y=\"kazanan\")\n",
    "plt.show()"
   ]
  },
  {
   "cell_type": "markdown",
   "metadata": {},
   "source": [
    "arena kapasitelerini büyükten küçüğe göre sıraladığımız bu grafikte o arenada kaç maç kazanıldığına baktık. Ve bu grafik doğrusal şekilde bir artış göstermediği için, maalesef arena kapasitelerinin takımların maç kazanmasında bir etkisi olduğunu söyleyemiyoruz."
   ]
  },
  {
   "cell_type": "markdown",
   "metadata": {},
   "source": [
    "**Takımların kuruluş yıllarının kazanma yüzdeliklerine etkisi**"
   ]
  },
  {
   "cell_type": "code",
   "execution_count": 21,
   "metadata": {},
   "outputs": [
    {
     "name": "stdout",
     "output_type": "stream",
     "text": [
      "      takim_id                  takim_adi  kurulus  kazanma_yuzdesi\n",
      "1   1610612738                     Boston     1946         0.560991\n",
      "18  1610612752                   New York     1946         0.399122\n",
      "8   1610612744               Golden State     1946         0.536370\n",
      "32  1610612765                    Detroit     1948         0.472246\n",
      "24  1610612758                 Sacramento     1948         0.404347\n",
      "12  1610612747                L.A. Lakers     1948         0.527680\n",
      "0   1610612737                    Atlanta     1949         0.458405\n",
      "21  1610612755               Philadelphia     1949         0.438196\n",
      "31  1610612764                 Washington     1961         0.416548\n",
      "5   1610612741                    Chicago     1966         0.484721\n",
      "27  1610612760                    Seattle     1967         0.421319\n",
      "9   1610612745                    Houston     1967         0.565434\n",
      "26  1610612760              Oklahoma City     1967         0.564325\n",
      "22  1610612756                    Phoenix     1968         0.499638\n",
      "14  1610612749                  Milwaukee     1968         0.479500\n",
      "11  1610612746                LA Clippers     1970         0.604189\n",
      "23  1610612757                   Portland     1970         0.506516\n",
      "2   1610612739                  Cleveland     1970         0.487570\n",
      "10  1610612746              L.A. Clippers     1970         0.477576\n",
      "29  1610612762                       Utah     1974         0.538236\n",
      "25  1610612759                San Antonio     1976         0.649111\n",
      "16  1610612751                   Brooklyn     1976         0.449721\n",
      "17  1610612751                 New Jersey     1976         0.399638\n",
      "7   1610612743                     Denver     1976         0.555013\n",
      "20  1610612754                    Indiana     1976         0.525326\n",
      "6   1610612742                     Dallas     1980         0.567435\n",
      "13  1610612748                      Miami     1988         0.549436\n",
      "33  1610612766                  Charlotte     1988         0.387566\n",
      "19  1610612753                    Orlando     1989         0.455416\n",
      "15  1610612750                  Minnesota     1989         0.388998\n",
      "28  1610612761                    Toronto     1995         0.508107\n",
      "30  1610612763                    Memphis     1995         0.489952\n",
      "4   1610612740  New Orleans/Oklahoma City     2002         0.479645\n",
      "3   1610612740                New Orleans     2002         0.448955\n"
     ]
    },
    {
     "data": {
      "image/png": "[encoded data removed]",
      "text/plain": [
       "<Figure size 432x288 with 1 Axes>"
      ]
     },
     "metadata": {
      "needs_background": "light"
     },
     "output_type": "display_data"
    }
   ],
   "source": [
    "df_kazanma_yuzdesi = pd.DataFrame({\"kazanma_yuzdesi\" : df_siralama[\"kazanma_yuzdesi\"] , \n",
    "\"takim_id\" : df_siralama[\"takim_id\"] , \n",
    "\"takim_adi\" : df_siralama[\"takim\"]})\n",
    "\n",
    "df_kurulus = pd.DataFrame({\"takim_id\" : df_takimlar[\"takim_id\"] , \"kurulus\" : df_takimlar[\"kurulus_senesi\"]})\n",
    "\n",
    "df8 = df_kazanma_yuzdesi.merge(df_kurulus , on = \"takim_id\")\n",
    "df8.drop_duplicates(subset = [\"kazanma_yuzdesi\" , \"takim_id\" , \"takim_adi\" , \"kurulus\"])\n",
    "df9 = df8.groupby([\"takim_id\" , \"takim_adi\" ,  \"kurulus\"])[\"kazanma_yuzdesi\"].mean().reset_index()\n",
    "df9\n",
    "df9=df9.sort_values('kurulus')\n",
    "print(df9)\n",
    "df9.plot.barh(x=\"kurulus\", y=\"kazanma_yuzdesi\")\n",
    "plt.show()"
   ]
  },
  {
   "cell_type": "markdown",
   "metadata": {},
   "source": [
    "df_takimlar dosyasındaki min_year sütunu takımın en az maç kazandığı yıldır. Bu sütun kuruluş yılı ile duplicate tir. Buradan her takımın kuruldukları senenin en başarısız sene olduğunu söyleyebiliriz. Ancak takımların kaç senelik olduğunu ve kazandıklarını maç sayısını karşılaştırdığımızda, yularıdaki grafikteki gibi, aralarında bir ilişki olmadığını görebiliyoruz."
   ]
  },
  {
   "cell_type": "markdown",
   "metadata": {},
   "source": [
    "**Daha Fazla Üçlük Denemenin Galibiyete Etkisi**"
   ]
  },
  {
   "cell_type": "code",
   "execution_count": 13,
   "metadata": {},
   "outputs": [
    {
     "name": "stdout",
     "output_type": "stream",
     "text": [
      "Kazananların üçlük sayısı oranı: 33.27211272031877 %\n",
      "Kaybedenlerin üçlük sayısı oranı: 32.84736685510265 %\n"
     ]
    }
   ],
   "source": [
    "df8 = df_oyun_detaylari.merge(df_oyunlar , on = \"oyun_id\")\n",
    "df8 = df8.groupby([\"oyun_id\",\"takim_id\",\"evsah_id\",\"kazanan\",\"denenen_atis\"])[\"denenen_ucluk\"].sum().reset_index()\n",
    "\n",
    "i=0\n",
    "kazanan_atis=0\n",
    "kazanan_ucluk=0\n",
    "kaybeden_ucluk=0\n",
    "kaybeden_atis=0\n",
    "for row in df8[\"oyun_id\"]:\n",
    "   \n",
    "   if(str(df8[\"kazanan\"][i])==\"1\"):\n",
    "       if(df8[\"takim_id\"][i]==df8[\"evsah_id\"][i]):\n",
    "          \n",
    "               kazanan_ucluk+=float(df8[\"denenen_ucluk\"][i])\n",
    "               kazanan_atis+=float(df8[\"denenen_atis\"][i])\n",
    "       \n",
    "       else:\n",
    "           \n",
    "               kaybeden_ucluk+=float(df8[\"denenen_ucluk\"][i])\n",
    "               kaybeden_atis+=float(df8[\"denenen_atis\"][i])\n",
    "         \n",
    "   else:\n",
    "       if(df8[\"takim_id\"][i]==df8[\"evsah_id\"][i]):\n",
    "           \n",
    "               kaybeden_ucluk+=float(df8[\"denenen_ucluk\"][i])\n",
    "               kaybeden_atis+=float(df8[\"denenen_atis\"][i])\n",
    "       else:\n",
    "          \n",
    "               kazanan_ucluk+=float(df8[\"denenen_ucluk\"][i])\n",
    "               kazanan_atis+=float(df8[\"denenen_atis\"][i])\n",
    "            \n",
    "   i+=1\n",
    "\n",
    "print(\"Kazananların üçlük sayısı oranı: \"+str((kazanan_ucluk/kazanan_atis)*100)+\" %\")\n",
    "print(\"Kaybedenlerin üçlük sayısı oranı: \"+str((kaybeden_ucluk/kaybeden_atis)*100)+\" %\")\n"
   ]
  },
  {
   "cell_type": "code",
   "execution_count": 23,
   "metadata": {},
   "outputs": [
    {
     "data": {
      "image/png": "[encoded data removed]",
      "text/plain": [
       "<Figure size 432x288 with 1 Axes>"
      ]
     },
     "metadata": {
      "needs_background": "light"
     },
     "output_type": "display_data"
    }
   ],
   "source": [
    "df8 = df_oyun_detaylari.merge(df_oyunlar , on = \"oyun_id\")\n",
    "df9 = df8.groupby([\"oyun_id\",\"takim_id\",\"sezon\",\"denenen_atis\"])[\"denenen_ucluk\"].sum().reset_index()\n",
    "df10 = df8.groupby([\"oyun_id\",\"takim_id\",\"sezon\",\"denenen_atis\"])[\"yapilan_ucluk\"].sum().reset_index()\n",
    "df9[\"yapilan_ucluk\"]=df10[\"yapilan_ucluk\"]\n",
    "\n",
    "\n",
    "df9=df9.groupby(\"sezon\").sum()\n",
    "df9.plot.bar(y=[\"denenen_ucluk\",\"yapilan_ucluk\"])\n",
    "plt.show()"
   ]
  },
  {
   "cell_type": "markdown",
   "metadata": {},
   "source": [
    "**Oyuncuların başlangıç pozisyonlarının, maça katkılarına etkisi**"
   ]
  },
  {
   "cell_type": "code",
   "execution_count": 17,
   "metadata": {},
   "outputs": [
    {
     "name": "stdout",
     "output_type": "stream",
     "text": [
      "  baslangic_poz  plus_minus\n",
      "0             C    0.276668\n",
      "1             F    0.389700\n",
      "2             G    0.384843\n"
     ]
    },
    {
     "data": {
      "image/png": "[encoded data removed]",
      "text/plain": [
       "<Figure size 432x288 with 1 Axes>"
      ]
     },
     "metadata": {
      "needs_background": "light"
     },
     "output_type": "display_data"
    }
   ],
   "source": [
    "df_oyun_detaylari.groupby(\"baslangic_poz\")[\"plus_minus\"].mean()\n",
    "print(df_oyun_detaylari.groupby(\"baslangic_poz\")[\"plus_minus\"].mean().reset_index())\n",
    "df_oyun_detaylari.groupby(\"baslangic_poz\")[\"plus_minus\"].mean().reset_index().plot.bar(x=\"baslangic_poz\")\n",
    "plt.show()"
   ]
  },
  {
   "cell_type": "markdown",
   "metadata": {},
   "source": [
    "**Defensive-offensive rebound etkisi**\n",
    "\n",
    "Kazanan takımların offensive rebounda ve deffensive rebounda verdikleri önemin kazanma üzerinde etkisi olup olmadığını inceleyeceğim"
   ]
  },
  {
   "cell_type": "code",
   "execution_count": 18,
   "metadata": {},
   "outputs": [
    {
     "name": "stdout",
     "output_type": "stream",
     "text": [
      "                      hucum_reb  savunma_reb\n",
      "oyun_id  evsahibi_id                        \n",
      "10300001 1610612762        21.0         58.0\n",
      "10300002 1610612763        25.0         66.0\n",
      "10300004 1610612742        21.0         60.0\n",
      "10300005 1610612757        22.0         44.0\n",
      "10300007 1610612748        32.0         67.0\n",
      "...                         ...          ...\n",
      "52000101 1610612738        27.0         71.0\n",
      "52000111 1610612754        19.0         71.0\n",
      "52000121 1610612747        22.0         73.0\n",
      "52000131 1610612763        26.0         85.0\n",
      "52000201 1610612764        16.0         76.0\n",
      "\n",
      "[15138 rows x 2 columns]\n",
      "                       hucum_reb  savunma_reb\n",
      "oyun_id  ziyaretci_id                        \n",
      "10300003 1610612739         24.0         65.0\n",
      "10300008 1610612751         22.0         60.0\n",
      "10300011 1610612739         17.0         70.0\n",
      "10300014 1610612765         23.0         51.0\n",
      "10400064 1610612743         20.0         60.0\n",
      "...                          ...          ...\n",
      "42000314 1610612756         32.0         78.0\n",
      "42000315 1610612746          9.0         72.0\n",
      "42000316 1610612756         17.0         62.0\n",
      "42000405 1610612749         19.0         53.0\n",
      "52000211 1610612763         27.0         68.0\n",
      "\n",
      "[10530 rows x 2 columns]\n",
      "329138.0 966003.0 226380.0 675303.0\n",
      "huc_reb_or    0.252873\n",
      "sav_reb_or    0.747127\n",
      "dtype: float64\n"
     ]
    },
    {
     "data": {
      "text/plain": [
       "<AxesSubplot:ylabel='None'>"
      ]
     },
     "execution_count": 18,
     "metadata": {},
     "output_type": "execute_result"
    },
    {
     "data": {
      "image/png": "[encoded data removed]",
      "text/plain": [
       "<Figure size 720x720 with 1 Axes>"
      ]
     },
     "metadata": {},
     "output_type": "display_data"
    }
   ],
   "source": [
    "df_kazananlar = pd.DataFrame({\"oyun_id\" : df_oyunlar[\"oyun_id\"] ,\n",
    "\"evsahibi_id\" : df_oyunlar[\"evsah_id\"] ,\n",
    "\"ziyaretci_id\" : df_oyunlar[\"ziyar_id\"] , \n",
    "\"kazanan\" : df_oyunlar[\"kazanan\"]})\n",
    "df_kazananlar.dropna()\n",
    "\n",
    "\n",
    "df_reb = pd.DataFrame({\"oyun_id\" : df_oyun_detaylari[\"oyun_id\"] ,\n",
    "\"hucum_reb\" : df_oyun_detaylari[\"hucum_reb\"] ,\n",
    "\"savunma_reb\" : df_oyun_detaylari[\"savunma_reb\"]})\n",
    "df_reb.dropna()\n",
    "\n",
    "df1 = df_reb.merge(df_kazananlar[df_kazananlar[\"kazanan\"]==1] , on = \"oyun_id\" ).groupby([\"oyun_id\" , \"evsahibi_id\" ]).sum()\n",
    "print(df1)\n",
    "\n",
    "df0 =df_reb.merge(df_kazananlar[df_kazananlar[\"kazanan\"]==0] , on = \"oyun_id\" ).groupby([\"oyun_id\" , \"ziyaretci_id\" ]).sum()\n",
    "print(df0)\n",
    "\n",
    "a = df1[\"hucum_reb\"].sum()\n",
    "b = df1[\"savunma_reb\"].sum()\n",
    "\n",
    "c = df0[\"hucum_reb\"].sum()\n",
    "d = df0[\"savunma_reb\"].sum()\n",
    "\n",
    "print(a, b, c, d)\n",
    "\n",
    "df3 = pd.Series({\"huc_reb_or\" : ((a + c)/ (a+b+c+d)) , \"sav_reb_or\" : ((b + d)/ (a+b+c+d))})\n",
    "df3\n",
    "print(df3)\n",
    "df3.plot.pie(autopct='%1.0f%%', figsize=(10, 10), textprops={'color':\"w\"})\n",
    "\n"
   ]
  },
  {
   "cell_type": "markdown",
   "metadata": {},
   "source": [
    "**En skorer on oyuncunun hücum rebound, savunma reboundı, top çalma ve blok arasında en çok neyi yaptığı**"
   ]
  },
  {
   "cell_type": "code",
   "execution_count": 124,
   "metadata": {},
   "outputs": [
    {
     "data": {
      "text/plain": [
       "<AxesSubplot:ylabel='None'>"
      ]
     },
     "execution_count": 124,
     "metadata": {},
     "output_type": "execute_result"
    },
    {
     "data": {
      "image/png": "[encoded data removed]",
      "text/plain": [
       "<Figure size 720x720 with 1 Axes>"
      ]
     },
     "metadata": {},
     "output_type": "display_data"
    }
   ],
   "source": [
    "df_skorer_oyuncu = pd.DataFrame({\"oyuncu_id\" : df_oyun_detaylari[\"oyuncu_id\"] ,\n",
    "\"oyuncunun_katkisi\" : df_oyun_detaylari[\"oyuncu_sayisi\"] ,\n",
    "\"hucum_reb\" : df_oyun_detaylari[\"hucum_reb\"] ,\n",
    "\"savunma_reb\" : df_oyun_detaylari[\"savunma_reb\"] , \n",
    "\"top_calma\" : df_oyun_detaylari[\"top_calma\"] ,\n",
    "\"blok\" : df_oyun_detaylari[\"blok\"]}).groupby([ \"oyuncu_id\"]).sum()\n",
    "\n",
    "ilk_on = df_skorer_oyuncu.sort_values(\"oyuncunun_katkisi\" , ascending = False)[:10]\n",
    "ilk_on\n",
    "\n",
    "ilk_on.drop(\"oyuncunun_katkisi\", axis = 1 , inplace =True)\n",
    "ilk_on.sum().plot.pie(autopct='%1.0f%%', figsize=(10, 10), textprops={'color':\"w\"})"
   ]
  }
 ],
 "metadata": {
  "kernelspec": {
   "display_name": "Python 3.9.0 64-bit",
   "language": "python",
   "name": "python3"
  },
  "language_info": {
   "codemirror_mode": {
    "name": "ipython",
    "version": 3
   },
   "file_extension": ".py",
   "mimetype": "text/x-python",
   "name": "python",
   "nbconvert_exporter": "python",
   "pygments_lexer": "ipython3",
   "version": "3.9.0"
  },
  "orig_nbformat": 4,
  "vscode": {
   "interpreter": {
    "hash": "8209341f664116eeeeb44654eb549d78fc42b9c82c84333fa93aa7435608f4eb"
   }
  }
 },
 "nbformat": 4,
 "nbformat_minor": 2
}
